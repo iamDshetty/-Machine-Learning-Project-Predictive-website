{
 "cells": [
  {
   "cell_type": "code",
   "execution_count": 14,
   "metadata": {},
   "outputs": [
    {
     "data": {
      "text/plain": [
       "Respondent          0\n",
       "MainBranch        552\n",
       "Hobbyist            0\n",
       "OpenSourcer         0\n",
       "OpenSource       2041\n",
       "                ...  \n",
       "Sexuality       12736\n",
       "Ethnicity       12215\n",
       "Dependents       5824\n",
       "SurveyLength     1899\n",
       "SurveyEase       1802\n",
       "Length: 85, dtype: int64"
      ]
     },
     "execution_count": 14,
     "metadata": {},
     "output_type": "execute_result"
    }
   ],
   "source": [
    "import numpy as np\n",
    "import pandas as pd\n",
    "import matplotlib.pyplot as plt\n",
    "import seaborn as sns\n",
    "#%matplotlib inline\n",
    "from sklearn.impute import  SimpleImputer\n",
    "imp = SimpleImputer(strategy='mean',missing_values=np.nan)\n",
    "\n",
    "\n",
    "csv_path ='C:/Users/lenovo/Predictive Website/Stack Over Flow developer_survey_2019/survey_results_public.csv'\n",
    "\n",
    "df = pd.read_csv(csv_path)\n",
    "\n",
    "df.isnull().sum()"
   ]
  },
  {
   "cell_type": "code",
   "execution_count": 7,
   "metadata": {},
   "outputs": [],
   "source": [
    "class data_set():\n",
    "    \n",
    "    def __init__ (self):\n",
    "        #self.link = link\n",
    "        #self.df = pd.read_csv(link)  \n",
    "        self.cols = df.columns\n",
    "        pass\n",
    "    \n",
    "    #def _1vs1 (self,a,b,filt_col,filt_val):\n",
    "        \n",
    "        #filt = df[filt_col]==filt_val\n",
    "        #fig,ax = plt.subplots()\n",
    "        #ax.scatter(df.loc[filt,a],df.loc[filt,b],label=f'{a} v/s {b}')\n",
    "        #ax.legend()\n",
    "        #ax.set(xlabel = a,ylabel=b)\n",
    "        #pass\n",
    "    \n",
    "    def analysis(self,filt_col,filt_val,y,*args):  \n",
    "        filt = df[filt_col]==filt_val\n",
    "        for x in args:\n",
    "            fig,ax1 = plt.subplots()\n",
    "        \n",
    "            ax1.scatter(df.loc[filt,x],df.loc[filt,y],label=f'{x} v/s {y}')\n",
    "            ax1.legend()\n",
    "            ax1.set(xlabel = x,ylabel=y)\n",
    "            pass\n",
    "        pass\n",
    "    pass\n",
    "\n",
    "\n",
    "    \n"
   ]
  }
 ],
 "metadata": {
  "kernelspec": {
   "display_name": "Python 3",
   "language": "python",
   "name": "python3"
  },
  "language_info": {
   "codemirror_mode": {
    "name": "ipython",
    "version": 3
   },
   "file_extension": ".py",
   "mimetype": "text/x-python",
   "name": "python",
   "nbconvert_exporter": "python",
   "pygments_lexer": "ipython3",
   "version": "3.8.2"
  }
 },
 "nbformat": 4,
 "nbformat_minor": 4
}
